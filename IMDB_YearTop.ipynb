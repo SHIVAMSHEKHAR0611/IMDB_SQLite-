{
 "cells": [
  {
   "cell_type": "markdown",
   "id": "0f9d1978",
   "metadata": {},
   "source": [
    "#### Find the highest-grossing movie (i.e domestic earning + worldwide earning) in IMDB database year wise.\n",
    "#### Print the Year and name of the movie which was the highest grosser in that year.\n",
    "#### Note:Print the year in ascending order.\n",
    "#### Output Format:\n",
    "#### year_1 name_movie_1\n",
    "#### year_2 name_movie_2\n",
    "#### year_3 name_movie_3"
   ]
  },
  {
   "cell_type": "code",
   "execution_count": 73,
   "id": "6dfa6398",
   "metadata": {},
   "outputs": [
    {
     "name": "stdout",
     "output_type": "stream",
     "text": [
      "2010 Toy Story 3 (2010)\n",
      "2011 Rise of the Planet of the Apes (2011)\n",
      "2012 The Avengers (2012)\n",
      "2013 The Hunger Games: Catching Fire (2013)\n",
      "2014 Guardians of the Galaxy (2014)\n",
      "2015 Star Wars: The Force Awakens (2015)\n",
      "2016 Rogue One (2016)\n"
     ]
    },
    {
     "data": {
      "text/plain": [
       "'\\n# METHOD 2 TO PRINT \\nyear = l_yr\\nyear.sort()\\nl_mv = np.array(l_mv)\\nyr = np.array(l_yr)\\ninds = yr.argsort()\\nsortedl_mv = l_mv[inds]\\n\\nprint(year)\\nprint(sortedl_mv)\\n'"
      ]
     },
     "execution_count": 73,
     "metadata": {},
     "output_type": "execute_result"
    }
   ],
   "source": [
    "import pandas as pd \n",
    "import numpy as np\n",
    "import sqlite3\n",
    "\n",
    "db = sqlite3.connect('IMDB.sqlite') \n",
    "cur = db.cursor()\n",
    "\n",
    "data = pd.read_sql_query('select * from IMDB inner join earning on IMDB.Movie_id = earning.Movie_id ',db)\n",
    "\n",
    "data['total'] = data['Domestic'] + data['Worldwide']\n",
    "\n",
    "def getYear(s):  \n",
    "    return int(s[len(s)-5:len(s)-1]) \n",
    "\n",
    "data['Year'] = data['Title'].apply(getYear) \n",
    "\n",
    "np_title = np.array(data['Title'])\n",
    "np_yr = np.array(data['Year'])\n",
    "np_total = np.array(data['total'])\n",
    "set_yr = set(np_yr)\n",
    "\n",
    "l_yr = [] \n",
    "l_mv = []\n",
    "for el in set_yr:\n",
    "    d = data[data['Year']==el]\n",
    "    t = max(d['total'])\n",
    "    np_mvi = np.array(d['Title'])\n",
    "    np_year = np.array(d['Year'])\n",
    "    np_total = np.array(d['total'])\n",
    "    for i in range(len(np_mvi)):\n",
    "        if t == np_total[i]:\n",
    "            l_yr.append(np_year[i])\n",
    "            l_mv.append(np_mvi[i])\n",
    "            break\n",
    "\n",
    "# print(l_yr)\n",
    "# print(l_mv)\n",
    "\n",
    "# METHOD 1 TO PRINT\n",
    "years = l_yr\n",
    "movie = l_mv\n",
    "dict_ ={}\n",
    "\n",
    "for i in range(len(years)):\n",
    "    dict_[years[i]] = i\n",
    "years.sort()\n",
    "\n",
    "for i in range(len(years)):\n",
    "    print(years[i], movie[dict_.get(years[i])])\n",
    "\"\"\"\n",
    "# METHOD 2 TO PRINT \n",
    "year = l_yr\n",
    "year.sort()\n",
    "l_mv = np.array(l_mv)\n",
    "yr = np.array(l_yr)\n",
    "inds = yr.argsort()\n",
    "sortedl_mv = l_mv[inds]\n",
    "\n",
    "print(year)\n",
    "print(sortedl_mv)\n",
    "\"\"\""
   ]
  },
  {
   "cell_type": "code",
   "execution_count": null,
   "id": "ecabf8a3",
   "metadata": {},
   "outputs": [],
   "source": []
  },
  {
   "cell_type": "code",
   "execution_count": null,
   "id": "d3a6828e",
   "metadata": {},
   "outputs": [],
   "source": []
  }
 ],
 "metadata": {
  "kernelspec": {
   "display_name": "Python 3",
   "language": "python",
   "name": "python3"
  },
  "language_info": {
   "codemirror_mode": {
    "name": "ipython",
    "version": 3
   },
   "file_extension": ".py",
   "mimetype": "text/x-python",
   "name": "python",
   "nbconvert_exporter": "python",
   "pygments_lexer": "ipython3",
   "version": "3.7.2"
  }
 },
 "nbformat": 4,
 "nbformat_minor": 5
}
