{
 "cells": [
  {
   "cell_type": "markdown",
   "id": "dfc8dcfc",
   "metadata": {},
   "source": [
    "#### Find out the percentage of the total earning for each genre in IMDB Movie Dataset?Plot the pie chart.\n",
    "#### Print the genre and percentage of movies total earning present in that genre with 2 decimal place after rounding off.\n",
    "#### Note: Movies has multiple genres, so calculate the percentage for each genre.Total Earning=Domestic earning + WorldWide earning.\n",
    "#### Output Format:\n",
    "#### genre_1 percent_1\n",
    "#### genre_2 percent_2"
   ]
  },
  {
   "cell_type": "code",
   "execution_count": 6,
   "id": "e394ecc1",
   "metadata": {},
   "outputs": [
    {
     "name": "stdout",
     "output_type": "stream",
     "text": [
      "Adventure 23.57\n",
      "Action 17.91\n",
      "Drama 11.96\n",
      "Sci-Fi 9.95\n",
      "Comedy 7.69\n",
      "Animation 6.77\n",
      "Fantasy 5.15\n",
      "Thriller 4.42\n",
      "Biography 3.42\n",
      "Mystery 2.01\n",
      "Crime 1.55\n",
      "Romance 1.45\n",
      "Family 1.05\n",
      "History 1.04\n",
      "Western 0.65\n",
      "Music 0.43\n",
      "Musical 0.38\n",
      "Sport 0.32\n",
      "War 0.25\n",
      "Horror 0.01\n"
     ]
    }
   ],
   "source": [
    "import sqlite3\n",
    "import pandas as pd\n",
    "import matplotlib.pyplot as plt\n",
    "db = sqlite3.connect('IMDB.sqlite')\n",
    "imdb = pd.read_sql_query('select * from IMDB',db)\n",
    "earning = pd.read_sql_query('select * from earning',db)\n",
    "genre = pd.read_sql_query('select * from genre',db)\n",
    "\n",
    "\n",
    "data = pd.read_sql_query('select * from genre inner join earning on genre.Movie_id = earning.Movie_id',db)\n",
    "\n",
    "data.drop(data.loc[data.genre == ''].index,inplace=True)\n",
    "\n",
    "data['total'] = data.Domestic + data.Worldwide \n",
    "\n",
    "total = data.total.sum()\n",
    "\n",
    "l = data.groupby('genre')['total'].sum().sort_values(ascending=False)\n",
    "gen = l.index\n",
    "for i in range(len(l)):\n",
    "    print(gen[i],format(l[i]*100/total,'.2f'))\n"
   ]
  },
  {
   "cell_type": "code",
   "execution_count": null,
   "id": "c867070a",
   "metadata": {},
   "outputs": [],
   "source": []
  }
 ],
 "metadata": {
  "kernelspec": {
   "display_name": "Python 3",
   "language": "python",
   "name": "python3"
  },
  "language_info": {
   "codemirror_mode": {
    "name": "ipython",
    "version": 3
   },
   "file_extension": ".py",
   "mimetype": "text/x-python",
   "name": "python",
   "nbconvert_exporter": "python",
   "pygments_lexer": "ipython3",
   "version": "3.7.2"
  }
 },
 "nbformat": 4,
 "nbformat_minor": 5
}
