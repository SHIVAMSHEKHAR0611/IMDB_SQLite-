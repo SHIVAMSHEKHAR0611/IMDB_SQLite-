{
 "cells": [
  {
   "cell_type": "markdown",
   "id": "f2335463",
   "metadata": {},
   "source": [
    "#### IMDB.sqlite database contains all details of movies and has three tables with name IMDB, genre and earning.\n",
    "#### Find the Movie with Longest-Running Time from IMDB Movie database.\n",
    "#### Print the name of movie and running time as integer value.\n",
    "#### Note: Don't print 'min' in running time.\n",
    "#### Output Format:\n",
    "#### movie_name running_time"
   ]
  },
  {
   "cell_type": "markdown",
   "id": "667caec3",
   "metadata": {},
   "source": [
    "##### as the text in the dataset has id, it can't be converted \n",
    "##### sqlite assigns ids to the datapoints that pandas can't read"
   ]
  },
  {
   "cell_type": "code",
   "execution_count": null,
   "id": "4554b898",
   "metadata": {},
   "outputs": [],
   "source": [
    "import sqlite3 \n",
    "import pandas as pd \n",
    "import numpy as np\n",
    "\n",
    "db = sqlite3.connect('IMDB.sqlite')\n",
    "test = sqlite3.connect('test.sqlite')\n",
    "cur = db.cursor() \n",
    "print(cur)\n",
    "\"\"\"\n",
    "data = pd.read_sql_query('select Title , Runtime from IMDB order by Runtime desc',db)\n",
    "\n",
    "print(data.describe())\n",
    "a = data.Runtime == data.Runtime.max()\n",
    "print(data[a])\n",
    "print(data['Runtime'][0])\n",
    "rt = list(data['Runtime'])\n",
    "\n",
    "l = []\n",
    "for i in range(len(rt)):\n",
    "    a = rt[i].split(' ')[0]\n",
    "    \n",
    "    a = float(a)\n",
    "    l.append(a)\n",
    "print(l)\"\"\""
   ]
  },
  {
   "cell_type": "markdown",
   "id": "6f68f5a8",
   "metadata": {},
   "source": [
    "##### pandas method would be quite inefficient here given the large data \n",
    "##### making a function would make it quick "
   ]
  },
  {
   "cell_type": "code",
   "execution_count": 48,
   "id": "f35d3ed0",
   "metadata": {},
   "outputs": [
    {
     "name": "stdout",
     "output_type": "stream",
     "text": [
      "The Wolf of Wall Street (2013) 180\n"
     ]
    }
   ],
   "source": [
    "import pandas as pd \n",
    "import sqlite3 \n",
    "\n",
    "db=sqlite3.connect('IMDB.sqlite') \n",
    "imdb=pd.read_sql_query(\"Select * from IMDB\",db) \n",
    "earning=pd.read_sql_query(\"Select * from earning\",db) \n",
    "genre=pd.read_sql_query(\"Select * from genre\",db) \n",
    "\n",
    "def getTime(time): \n",
    "    return int(time.split(' ')[0]) \n",
    "\n",
    "imdb['Runtime'].replace('','0',inplace=True) \n",
    "imdb['Runtime']=imdb['Runtime'].apply(getTime) \n",
    "long_runtime=imdb[imdb['Runtime']==max(imdb['Runtime'])] \n",
    "print(long_runtime['Title'].values[0],long_runtime['Runtime'].values[0])"
   ]
  },
  {
   "cell_type": "code",
   "execution_count": null,
   "id": "6b6a99a6",
   "metadata": {},
   "outputs": [],
   "source": []
  }
 ],
 "metadata": {
  "kernelspec": {
   "display_name": "Python 3",
   "language": "python",
   "name": "python3"
  },
  "language_info": {
   "codemirror_mode": {
    "name": "ipython",
    "version": 3
   },
   "file_extension": ".py",
   "mimetype": "text/x-python",
   "name": "python",
   "nbconvert_exporter": "python",
   "pygments_lexer": "ipython3",
   "version": "3.7.2"
  }
 },
 "nbformat": 4,
 "nbformat_minor": 5
}
