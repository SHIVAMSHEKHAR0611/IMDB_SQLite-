{
 "cells": [
  {
   "cell_type": "markdown",
   "id": "6aa90472",
   "metadata": {},
   "source": [
    "#### Find out the percentage of the budget for each genre in IMDB Movie Dataset?Plot the pie chart.\n",
    "#### Print the genre and percentage of movies budget present in that genre with 2 decimal place after rounding off..\n",
    "#### Note: Movies has multiple genres, so calculate the percentage for each genre.Replace empty budget column to zero.\n",
    "#### Output Format:\n",
    "#### genre_1 percent_1\n",
    "#### genre_2 percent_2\n",
    "#### . . ."
   ]
  },
  {
   "cell_type": "code",
   "execution_count": 1,
   "id": "65650ad3",
   "metadata": {
    "scrolled": false
   },
   "outputs": [
    {
     "name": "stdout",
     "output_type": "stream",
     "text": [
      "{'Comedy', 'Thriller', 'Family', 'Sport', 'Romance', 'Drama', 'Horror', 'Sci-Fi', 'Action', 'Musical', 'Crime', 'Music', 'Adventure', 'Mystery', 'Fantasy', 'Western', 'History', 'War', 'Biography', 'Animation'}\n",
      "['Comedy', 'Thriller', 'Family', 'Sport', 'Romance', 'Drama', 'Horror', 'Sci-Fi', 'Action', 'Musical', 'Crime', 'Music', 'Adventure', 'Mystery', 'Fantasy', 'Western', 'History', 'War', 'Biography', 'Animation']\n",
      "[1740100000, 961500000, 460000000, 110000000, 270900000, 2614400000, 6600000, 2596000000, 4332500000, 61000000, 426500000, 37300000, 6046700000, 469000000, 1094000000, 138000000, 173000000, 87000000, 624500000, 1845200000]\n"
     ]
    },
    {
     "name": "stderr",
     "output_type": "stream",
     "text": [
      "c:\\users\\shivam shekhar\\appdata\\local\\programs\\python\\python37\\lib\\site-packages\\pandas\\core\\series.py:4515: SettingWithCopyWarning: \n",
      "A value is trying to be set on a copy of a slice from a DataFrame\n",
      "\n",
      "See the caveats in the documentation: https://pandas.pydata.org/pandas-docs/stable/user_guide/indexing.html#returning-a-view-versus-a-copy\n",
      "  method=method,\n"
     ]
    },
    {
     "data": {
      "image/png": "[encoded data removed]",
      "text/plain": [
       "<Figure size 432x288 with 1 Axes>"
      ]
     },
     "metadata": {},
     "output_type": "display_data"
    },
    {
     "name": "stdout",
     "output_type": "stream",
     "text": [
      "Comedy 7.22\n",
      "Thriller 3.99\n",
      "Family 1.91\n",
      "Sport 0.46\n",
      "Romance 1.12\n",
      "Drama 10.85\n",
      "Horror 0.03\n",
      "Sci-Fi 10.77\n",
      "Action 17.98\n",
      "Musical 0.25\n",
      "Crime 1.77\n",
      "Music 0.15\n",
      "Adventure 25.10\n",
      "Mystery 1.95\n",
      "Fantasy 4.54\n",
      "Western 0.57\n",
      "History 0.72\n",
      "War 0.36\n",
      "Biography 2.59\n",
      "Animation 7.66\n"
     ]
    }
   ],
   "source": [
    "import pandas as pd \n",
    "import numpy as np\n",
    "import matplotlib.pyplot as plt \n",
    "import sqlite3\n",
    "\n",
    "db = sqlite3.connect('IMDB.sqlite') \n",
    "cur = db.cursor()\n",
    "\n",
    "data = pd.read_sql_query('select * from genre inner join IMDB on IMDB.Movie_id = genre.Movie_id ',db)\n",
    "data.drop(data.loc[data.genre == ''].index,inplace=True)\n",
    "gen = set(data['genre'])\n",
    "print(gen)\n",
    "data['Budget'].replace('','0',inplace=True) \n",
    "def getBud(bud):\n",
    "    if bud == \"\":\n",
    "        return 0\n",
    "    return bud\n",
    "    \n",
    "\n",
    "data['Budget']=data['Budget'].apply(getBud) \n",
    "np_bud = np.array(data['Budget'])\n",
    "\n",
    "total = sum(np_bud)\n",
    "\n",
    "gen_list = [] \n",
    "perc = [] \n",
    "    \n",
    "for el in gen:\n",
    "    \n",
    "    gen_list.append(el)\n",
    "    d = data[data['genre'] == el]\n",
    "    p_list = np.array(d['Budget'])\n",
    "    perc.append(int(sum(p_list)))\n",
    "    \n",
    "print(gen_list) \n",
    "print(perc)\n",
    "plt.pie(perc , labels=gen_list  )    \n",
    "plt.show()\n",
    "for i in range(len(perc)):\n",
    "    perc[i] = (perc[i]/total)*100\n",
    "    #perc[i] = round(perc[i])\n",
    "    perc[i] = '%.2f'%perc[i]\n",
    "    #print(perc[i])\n",
    "\n",
    "for i in range(len(perc)):\n",
    "    \n",
    "    print(gen_list[i] , perc[i])"
   ]
  },
  {
   "cell_type": "markdown",
   "id": "26a05e43",
   "metadata": {},
   "source": [
    "#### METHOD 2 \n",
    "\n",
    "i have joined all 3 tables\n",
    "to get dataframe\n",
    "line 56 57 is dropping empty spaces\n",
    "getting upto this ?\n",
    "\n",
    "\n",
    "yea\n",
    "\n",
    "\n",
    "now on line 59\n",
    "i created variable\n",
    "which calculates total sum\n",
    "of budget\n",
    "as we need to calculate percentage\n",
    "so each budget will be divided by total\n",
    "right ?\n",
    "\n",
    "\n",
    "got it\n",
    "\n",
    "\n",
    "now on line 60\n",
    "i am grouping on the basis of genre\n",
    "what it will do\n",
    "lets say\n",
    "genre is \n",
    "Fantasy \n",
    "so it will group all budget values of fantasy\n",
    "and similar to other genre\n",
    "ok ?\n",
    "\n",
    "\n",
    "cool\n",
    "\n",
    "\n",
    "then i am getting sum of budget for each genre\n",
    "and then sorting\n",
    "in descending for\n",
    "form\n",
    "and in for loop i am dividing each genre budget by total sum\n",
    "and *100\n",
    "to get percentage value\n",
    "and formatting upto 2 decimal"
   ]
  },
  {
   "cell_type": "code",
   "execution_count": 2,
   "id": "20bd8154",
   "metadata": {},
   "outputs": [
    {
     "name": "stdout",
     "output_type": "stream",
     "text": [
      "Adventure 25.10\n",
      "Action 17.98\n",
      "Drama 10.85\n",
      "Sci-Fi 10.77\n",
      "Animation 7.66\n",
      "Comedy 7.22\n",
      "Fantasy 4.54\n",
      "Thriller 3.99\n",
      "Biography 2.59\n",
      "Mystery 1.95\n",
      "Family 1.91\n",
      "Crime 1.77\n",
      "Romance 1.12\n",
      "History 0.72\n",
      "Western 0.57\n",
      "Sport 0.46\n",
      "War 0.36\n",
      "Musical 0.25\n",
      "Music 0.15\n",
      "Horror 0.03\n"
     ]
    }
   ],
   "source": [
    "import sqlite3\n",
    "import pandas as pd\n",
    "import matplotlib.pyplot as plt\n",
    "db = sqlite3.connect('IMDB.sqlite')\n",
    "imdb = pd.read_sql_query('select * from IMDB',db)\n",
    "earning = pd.read_sql_query('select * from earning',db)\n",
    "genre = pd.read_sql_query('select * from genre',db)\n",
    "\n",
    "df = pd.read_sql_query('select genre.genre, genre.movie_id, earning.Domestic, earning.Worldwide,imdb.Budget from genre join earning on genre.Movie_id = earning.Movie_id join imdb on imdb.Movie_id = earning.Movie_id',db)\n",
    "df.drop(df.loc[df.Budget == ''].index,inplace=True)\n",
    "df.drop(df.loc[df.genre == ''].index,inplace=True)\n",
    "# df['Total'] = (df.Domestic+df.Worldwide)\n",
    "budget = df.Budget.sum()\n",
    "l = df.groupby('genre')['Budget'].sum().sort_values(ascending=False)\n",
    "gen = l.index\n",
    "for i in range(len(l)):\n",
    "    print(gen[i],format(l[i]*100/budget,'.2f'))"
   ]
  }
 ],
 "metadata": {
  "kernelspec": {
   "display_name": "Python 3",
   "language": "python",
   "name": "python3"
  },
  "language_info": {
   "codemirror_mode": {
    "name": "ipython",
    "version": 3
   },
   "file_extension": ".py",
   "mimetype": "text/x-python",
   "name": "python",
   "nbconvert_exporter": "python",
   "pygments_lexer": "ipython3",
   "version": "3.7.2"
  }
 },
 "nbformat": 4,
 "nbformat_minor": 5
}
