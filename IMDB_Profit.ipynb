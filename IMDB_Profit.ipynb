{
 "cells": [
  {
   "cell_type": "markdown",
   "id": "dd1bdc43",
   "metadata": {},
   "source": [
    "#### Find the movie which has maximum net profit in IMDB Movie Database.\n",
    "#### Print the movie name.\n",
    "#### Note: Net Profit= Total Earning(Domestic+WorldWide earning) - budget\n",
    "#### Output Format:\n",
    "#### movie_name\n"
   ]
  },
  {
   "cell_type": "code",
   "execution_count": 32,
   "id": "0cc3be1d",
   "metadata": {},
   "outputs": [
    {
     "name": "stdout",
     "output_type": "stream",
     "text": [
      "260000000\n",
      "Star Wars: The Force Awakens (2015)\n"
     ]
    }
   ],
   "source": [
    "import pandas as pd \n",
    "import sqlite3 \n",
    "\n",
    "db = sqlite3.connect('IMDB.sqlite') \n",
    "imdb = pd.read_sql_query(\"Select * from IMDB\",db) \n",
    "earn = pd.read_sql_query(\"Select * from earning\",db) \n",
    "total = earn['Domestic'] + earn['Worldwide']\n",
    "\n",
    "imdb['Budget'].replace('','0',inplace=True) \n",
    "def getBud(bud): \n",
    "    return int(bud) \n",
    "imdb['Budget']=imdb['Budget'].apply(getBud) \n",
    "print(max(imdb['Budget']))\n",
    "imdb['profit'] = total + imdb['Budget']\n",
    "\n",
    "\n",
    "mvi = imdb[imdb['profit']==max(imdb['profit'])] \n",
    "print(mvi['Title'].values[0])\n"
   ]
  },
  {
   "cell_type": "code",
   "execution_count": null,
   "id": "fc4955b3",
   "metadata": {},
   "outputs": [],
   "source": []
  },
  {
   "cell_type": "code",
   "execution_count": null,
   "id": "4a7b3b0f",
   "metadata": {},
   "outputs": [],
   "source": []
  }
 ],
 "metadata": {
  "kernelspec": {
   "display_name": "Python 3",
   "language": "python",
   "name": "python3"
  },
  "language_info": {
   "codemirror_mode": {
    "name": "ipython",
    "version": 3
   },
   "file_extension": ".py",
   "mimetype": "text/x-python",
   "name": "python",
   "nbconvert_exporter": "python",
   "pygments_lexer": "ipython3",
   "version": "3.7.2"
  }
 },
 "nbformat": 4,
 "nbformat_minor": 5
}
