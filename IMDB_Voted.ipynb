{
 "cells": [
  {
   "cell_type": "markdown",
   "id": "0ae80a68",
   "metadata": {},
   "source": [
    "#### IMDB.sqlite' database contains all details of movies and has three tables with name IMDB, genre and earning.\n",
    "#### Find the most voted movie in IMDB Movie Database.\n",
    "#### Print the movie name and the rating of that movie.\n",
    "#### Output Format:\n",
    "#### movie_name rating"
   ]
  },
  {
   "cell_type": "code",
   "execution_count": 5,
   "id": "34cc7aac",
   "metadata": {},
   "outputs": [
    {
     "name": "stdout",
     "output_type": "stream",
     "text": [
      "1609713\n",
      "('Inception\\xa0(2010)', 8.8)\n"
     ]
    }
   ],
   "source": [
    "import sqlite3 \n",
    "import pandas as pd \n",
    "import numpy as np\n",
    "\n",
    "db = sqlite3.connect('IMDB.sqlite')\n",
    "test = sqlite3.connect('test.sqlite')\n",
    "cur = db.cursor() \n",
    "\n",
    "data = pd.read_sql_query('select * from IMDB',db)\n",
    "\n",
    "m = max(data['TotalVotes'])\n",
    "print(m)\n",
    "\n",
    "cur.execute('select Title , Rating from IMDB where TotalVotes=?',(m,))\n",
    "print(cur.fetchone())"
   ]
  },
  {
   "cell_type": "code",
   "execution_count": 6,
   "id": "b5647c72",
   "metadata": {},
   "outputs": [
    {
     "name": "stdout",
     "output_type": "stream",
     "text": [
      "Inception (2010) 8.8\n"
     ]
    }
   ],
   "source": [
    "import sqlite3\n",
    "import pandas as pd\n",
    "\n",
    "db = sqlite3.connect(\"IMDB.sqlite\")\n",
    "data = pd.read_sql_query(\"select * from IMDB\",db)\n",
    "data = data[data[\"TotalVotes\"] == max(data[\"TotalVotes\"])]\n",
    "data.reset_index(drop = True,inplace = True)\n",
    "\n",
    "print(data[\"Title\"][0],data[\"Rating\"][0])"
   ]
  },
  {
   "cell_type": "code",
   "execution_count": null,
   "id": "e8f83f71",
   "metadata": {},
   "outputs": [],
   "source": []
  },
  {
   "cell_type": "code",
   "execution_count": null,
   "id": "0a205223",
   "metadata": {},
   "outputs": [],
   "source": []
  }
 ],
 "metadata": {
  "kernelspec": {
   "display_name": "Python 3",
   "language": "python",
   "name": "python3"
  },
  "language_info": {
   "codemirror_mode": {
    "name": "ipython",
    "version": 3
   },
   "file_extension": ".py",
   "mimetype": "text/x-python",
   "name": "python",
   "nbconvert_exporter": "python",
   "pygments_lexer": "ipython3",
   "version": "3.7.2"
  }
 },
 "nbformat": 4,
 "nbformat_minor": 5
}
