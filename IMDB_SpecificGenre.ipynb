{
 "cells": [
  {
   "cell_type": "markdown",
   "id": "3dd3387b",
   "metadata": {},
   "source": [
    "#### Find the movie which has genre of 'Sci-Fi' and 'Mystery' and movie rating is greater or equal to 8 from IMDB Movie Database.\n",
    "#### Print the movie name.\n",
    "#### Movies has multiple genre.\n",
    "#### Output Format:\n",
    "#### movie_name"
   ]
  },
  {
   "cell_type": "code",
   "execution_count": 56,
   "id": "3f9bff55",
   "metadata": {},
   "outputs": [
    {
     "name": "stdout",
     "output_type": "stream",
     "text": [
      "5      31722\n",
      "23     11289\n",
      "29     21768\n",
      "35     46824\n",
      "41     46900\n",
      "50     36478\n",
      "74     10454\n",
      "92     24887\n",
      "113    27783\n",
      "Name: Movie_id, dtype: object 4     31722\n",
      "20    13277\n",
      "53    37979\n",
      "61    36011\n",
      "Name: Movie_id, dtype: object\n",
      "['31722' '11289' '21768' '46824' '46900' '36478' '10454' '24887' '27783'] ['31722' '13277' '37979' '36011']\n",
      "[('Arrival\\xa0(2016)',)]\n"
     ]
    }
   ],
   "source": [
    "import sqlite3\n",
    "import pandas as pd\n",
    "import matplotlib.pyplot as plt\n",
    "import numpy as np\n",
    "\n",
    "db = sqlite3.connect('IMDB.sqlite')\n",
    "cur = db.cursor()\n",
    "imdb = pd.read_sql_query('select * from IMDB',db)\n",
    "earning = pd.read_sql_query('select * from earning',db)\n",
    "genre = pd.read_sql_query('select * from genre ',db)\n",
    "\n",
    "df = pd.read_sql_query('select genre.genre, genre.movie_id, earning.Domestic, earning.Worldwide,imdb.Title from genre join earning on genre.Movie_id = earning.Movie_id join imdb on imdb.Movie_id = earning.Movie_id where IMDB.Rating >= 8',db)\n",
    "df.drop(df.loc[df.genre == ''].index,inplace=True)\n",
    "SF = df[(df['genre'] == \"Sci-Fi\")] \n",
    "M = df[df['genre'] == 'Mystery']\n",
    "print(SF['Movie_id'] , M['Movie_id'])\n",
    "\n",
    "SF_id = np.array(SF['Movie_id'])\n",
    "M_id = np.array(M['Movie_id'])\n",
    "print(SF_id , M_id)\n",
    "for i in SF_id:\n",
    "    if i in M_id:\n",
    "        cur.execute('select Title from IMDB where Movie_id=?',(i,))\n",
    "        print(cur.fetchall())\n",
    "        break"
   ]
  },
  {
   "cell_type": "code",
   "execution_count": null,
   "id": "a66bf0e2",
   "metadata": {},
   "outputs": [],
   "source": []
  },
  {
   "cell_type": "code",
   "execution_count": null,
   "id": "dc0f58f0",
   "metadata": {},
   "outputs": [],
   "source": []
  }
 ],
 "metadata": {
  "kernelspec": {
   "display_name": "Python 3",
   "language": "python",
   "name": "python3"
  },
  "language_info": {
   "codemirror_mode": {
    "name": "ipython",
    "version": 3
   },
   "file_extension": ".py",
   "mimetype": "text/x-python",
   "name": "python",
   "nbconvert_exporter": "python",
   "pygments_lexer": "ipython3",
   "version": "3.7.2"
  }
 },
 "nbformat": 4,
 "nbformat_minor": 5
}
