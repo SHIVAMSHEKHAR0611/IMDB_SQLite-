{
 "cells": [
  {
   "cell_type": "markdown",
   "id": "24cd7a38",
   "metadata": {},
   "source": [
    "#### Find the least budgeted movie in IMDB Movie Database.\n",
    "#### If there is more than one least budgeted movies then print the movie which has maximum net profit.\n",
    "#### Note: Net Profit= Total Earning(Domestic+WorldWide earning) - budget\n",
    "#### Output Format:\n",
    "#### movie_name"
   ]
  },
  {
   "cell_type": "code",
   "execution_count": 53,
   "id": "ba84ed8a",
   "metadata": {},
   "outputs": [
    {
     "name": "stdout",
     "output_type": "stream",
     "text": [
      "1000000.0\n",
      "0\n",
      "    count(Budget)       Budget\n",
      "0               2    1000000.0\n",
      "1               1    1600000.0\n",
      "2               1    2500000.0\n",
      "3               1    3000000.0\n",
      "4               1    3300000.0\n",
      "..            ...          ...\n",
      "59              1  225000000.0\n",
      "60              1  245000000.0\n",
      "61              3  250000000.0\n",
      "62              1  260000000.0\n",
      "63              3             \n",
      "\n",
      "[64 rows x 2 columns]\n",
      "count(Budget)            2\n",
      "Budget           1000000.0\n",
      "Name: 0, dtype: object\n"
     ]
    }
   ],
   "source": [
    "import pandas as pd \n",
    "import sqlite3\n",
    "\n",
    "db = sqlite3.connect('IMDB.sqlite') \n",
    "cur = db.cursor()\n",
    "imdb = pd.read_sql_query(\"Select * from IMDB\",db) \n",
    "earn = pd.read_sql_query(\"Select * from earning\",db) \n",
    "total = earn['Domestic'] + earn['Worldwide']\n",
    "\n",
    "imdb['Budget'].replace('','50000000000000000000000000',inplace=True) \n",
    "def getBud(bud):\n",
    "    return float(bud) \n",
    "\n",
    "imdb['Budget']=imdb['Budget'].apply(getBud) \n",
    "imdb['Budget'] \n",
    "bud = cur.execute('select Movie_id,Budget from IMDB order by Budget asc ')\n",
    "\n",
    "imdb['profit'] = total + imdb['Budget']\n",
    "\n",
    "min_bud = min(imdb['Budget'])\n",
    "print(min_bud) \n",
    "cnt = 0 \n",
    "if min_bud in imdb[\"Budget\"]: \n",
    "    cnt += 1 \n",
    "print(cnt)\n",
    "\n",
    "bud = pd.read_sql_query('select count(Budget),Budget from IMDB group by budget order by Budget asc ',db) \n",
    "print(bud)\n",
    "print(bud.loc[0])\n"
   ]
  },
  {
   "cell_type": "code",
   "execution_count": 2,
   "id": "ee986486",
   "metadata": {},
   "outputs": [
    {
     "name": "stdout",
     "output_type": "stream",
     "text": [
      "0       20000000.0\n",
      "1       18000000.0\n",
      "2        8000000.0\n",
      "3       12000000.0\n",
      "4        8900000.0\n",
      "          ...     \n",
      "112      3300000.0\n",
      "113    165000000.0\n",
      "114    200000000.0\n",
      "115    160000000.0\n",
      "116    150000000.0\n",
      "Name: Budget, Length: 117, dtype: float64\n",
      "Short Term 12 (2013)\n"
     ]
    }
   ],
   "source": [
    "import pandas as pd \n",
    "import sqlite3\n",
    "\n",
    "db = sqlite3.connect('IMDB.sqlite') \n",
    "cur = db.cursor()\n",
    "imdb = pd.read_sql_query(\"Select * from IMDB\",db) \n",
    "earn = pd.read_sql_query(\"Select * from earning\",db) \n",
    "total = earn['Domestic'] + earn['Worldwide']\n",
    "\n",
    "imdb['Budget'].replace('','50000000000000000000000000',inplace=True) \n",
    "\n",
    "def getBud(bud):\n",
    "    return float(bud) \n",
    "\n",
    "imdb['Budget']=imdb['Budget'].apply(getBud) \n",
    "print(imdb['Budget'])\n",
    "bud = cur.execute('select Movie_id,Budget from IMDB order by Budget asc ')\n",
    "\n",
    "imdb['profit'] = total + imdb['Budget']\n",
    "\n",
    "min_bud = min(imdb['Budget'])\n",
    "\n",
    "data = imdb[imdb['Budget'] == min_bud]\n",
    "max_pro = max(data['profit'])\n",
    "\n",
    "ans = imdb[imdb['profit'] == max_pro]\n",
    "\n",
    "print(ans['Title'].values[0])"
   ]
  },
  {
   "cell_type": "code",
   "execution_count": null,
   "id": "ec57bfcb",
   "metadata": {},
   "outputs": [],
   "source": []
  },
  {
   "cell_type": "code",
   "execution_count": null,
   "id": "cda5d324",
   "metadata": {},
   "outputs": [],
   "source": []
  },
  {
   "cell_type": "code",
   "execution_count": null,
   "id": "01b13677",
   "metadata": {},
   "outputs": [],
   "source": []
  }
 ],
 "metadata": {
  "kernelspec": {
   "display_name": "Python 3",
   "language": "python",
   "name": "python3"
  },
  "language_info": {
   "codemirror_mode": {
    "name": "ipython",
    "version": 3
   },
   "file_extension": ".py",
   "mimetype": "text/x-python",
   "name": "python",
   "nbconvert_exporter": "python",
   "pygments_lexer": "ipython3",
   "version": "3.7.2"
  }
 },
 "nbformat": 4,
 "nbformat_minor": 5
}
